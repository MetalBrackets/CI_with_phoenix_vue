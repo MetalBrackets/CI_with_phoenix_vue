{
  "cells": [
    {
      "cell_type": "markdown",
      "metadata": {
        "id": "view-in-github",
        "colab_type": "text"
      },
      "source": [
        "<a href=\"https://colab.research.google.com/github/MetalBrackets/CI_with_phoenix_vue/blob/main/ta_speech_to_text.ipynb\" target=\"_parent\"><img src=\"https://colab.research.google.com/assets/colab-badge.svg\" alt=\"Open In Colab\"/></a>"
      ]
    },
    {
      "cell_type": "code",
      "execution_count": null,
      "metadata": {
        "id": "fRLD8E4e9tfN"
      },
      "outputs": [],
      "source": [
        "# Enregistrer des enregistrements audios\n",
        "# lire les enregistrements\n",
        "# tester différentes feature speech to text\n",
        "# écrire le résumé de l'étude dans le fichier TA-speec-to-text.md"
      ]
    },
    {
      "cell_type": "code",
      "source": [
        "TEST colab - github"
      ],
      "metadata": {
        "id": "aD-G77sg-A9D"
      },
      "execution_count": null,
      "outputs": []
    }
  ],
  "metadata": {
    "language_info": {
      "name": "python"
    },
    "colab": {
      "provenance": [],
      "include_colab_link": true
    }
  },
  "nbformat": 4,
  "nbformat_minor": 0
}